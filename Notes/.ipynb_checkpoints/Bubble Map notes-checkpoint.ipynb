{
 "cells": [
  {
   "cell_type": "markdown",
   "metadata": {},
   "source": [
    "# Bubble Maps"
   ]
  },
  {
   "cell_type": "markdown",
   "metadata": {},
   "source": [
    "### Texas Railroad Commission:\n",
    "\n",
    "List of querry types: https://www.rrc.state.tx.us/about-us/resource-center/research/online-research-queries/\n",
    "\n",
    "Donwnload lease production data: http://webapps2.rrc.texas.gov/EWA/productionQueryAction.do\n",
    "\n",
    "\n",
    "The railroad commission has a bunch of datasets to query.  I'm having trouble finding the right one to get single well produciton data if that even exists.  Maybe production is reported else where?"
   ]
  },
  {
   "cell_type": "code",
   "execution_count": null,
   "metadata": {},
   "outputs": [],
   "source": []
  }
 ],
 "metadata": {
  "kernelspec": {
   "display_name": "Python 3",
   "language": "python",
   "name": "python3"
  },
  "language_info": {
   "codemirror_mode": {
    "name": "ipython",
    "version": 3
   },
   "file_extension": ".py",
   "mimetype": "text/x-python",
   "name": "python",
   "nbconvert_exporter": "python",
   "pygments_lexer": "ipython3",
   "version": "3.6.7"
  }
 },
 "nbformat": 4,
 "nbformat_minor": 2
}
