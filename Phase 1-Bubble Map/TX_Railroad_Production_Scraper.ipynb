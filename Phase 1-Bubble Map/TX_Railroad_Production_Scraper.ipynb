{
 "cells": [
  {
   "cell_type": "code",
   "execution_count": 1,
   "metadata": {},
   "outputs": [],
   "source": [
    "# import requests\n",
    "# from bs4 import BeautifulSoup\n",
    "import time\n",
    "from selenium import webdriver\n",
    "from selenium.webdriver.support.ui import Select"
   ]
  },
  {
   "cell_type": "code",
   "execution_count": 2,
   "metadata": {},
   "outputs": [
    {
     "name": "stdout",
     "output_type": "stream",
     "text": [
      "Click radio Lease View\n",
      "Lease\n",
      "Find field\n",
      "Search for Field\n",
      "fieldNumber\n",
      "get data from table\n"
     ]
    }
   ],
   "source": [
    "browser = webdriver.Firefox()\n",
    "\n",
    "browser.get('http://webapps2.rrc.texas.gov/EWA/productionQueryAction.do')\n",
    "print(\"Click radio Lease View\")\n",
    "lease_radio = browser.find_element_by_xpath(\"/html/body/table[2]/tbody/tr/td/form/table/tbody/tr[2]/td[1]/table/tbody/tr[2]/td/table/tbody/tr[2]/td[2]/label[1]/input\")\n",
    "print(lease_radio.get_attribute('value'))\n",
    "lease_radio.click()\n",
    "\n",
    "print(\"Find field\")\n",
    "search_field = browser.find_element_by_xpath(\"/html/body/table[2]/tbody/tr/td/form/table/tbody/tr[2]/td[1]/table/tbody/tr[2]/td/table/tbody/tr[9]/td[3]/input\")\n",
    "print(search_field.get_attribute('value'))\n",
    "search_field.click()\n",
    "field_num_input = browser.find_element_by_xpath(\"/html/body/table[2]/tbody/tr/td/form/table/tbody/tr/td/table[1]/tbody/tr[2]/td[2]/input\")\n",
    "print(field_num_input.get_attribute('name'))\n",
    "field_num_input.send_keys('71052900')\n",
    "field_num_click = browser.find_element_by_xpath(\"/html/body/table[2]/tbody/tr/td/form/table/tbody/tr/td/table[1]/tbody/tr[2]/td[3]/input\")\n",
    "field_num_click.click()\n",
    "field_select = browser.find_element_by_xpath(\"/html/body/table[2]/tbody/tr/td/form/table/tbody/tr/td/table[1]/tbody/tr[6]/td[1]/select/option\")\n",
    "field_select.click()\n",
    "add_field = browser.find_element_by_xpath(\"/html/body/table[2]/tbody/tr/td/form/table/tbody/tr/td/table[1]/tbody/tr[7]/td[1]/input\")\n",
    "add_field.click()\n",
    "field_submit = browser.find_element_by_xpath(\"/html/body/table[2]/tbody/tr/td/form/table/tbody/tr/td/table[2]/tbody/tr/td/input[1]\")\n",
    "field_submit.click()\n",
    "form_submit = browser.find_element_by_xpath(\"/html/body/table[2]/tbody/tr/td/form/table/tbody/tr[2]/td[1]/table/tbody/tr[5]/td/input[1]\")\n",
    "form_submit.click()\n",
    "print(\"get data from table\")\n",
    "num_entries_dd = browser.find_element_by_xpath(\"/html/body/table[2]/tbody/tr/td/form/table/tbody/tr[3]/td/table[2]/tbody/tr[2]/td/table/tbody/tr[1]/td/table/tbody/tr/td[3]/label/select/option[7]\")\n",
    "num_entries_dd.click()"
   ]
  },
  {
   "cell_type": "code",
   "execution_count": null,
   "metadata": {
    "scrolled": false
   },
   "outputs": [
    {
     "name": "stdout",
     "output_type": "stream",
     "text": [
      "page done\n",
      "page done\n",
      "page done\n",
      "page done\n",
      "page done\n",
      "page done\n",
      "page done\n",
      "page done\n",
      "page done\n",
      "page done\n",
      "page done\n",
      "page done\n",
      "page done\n",
      "page done\n",
      "page done\n",
      "page done\n",
      "page done\n",
      "page done\n"
     ]
    }
   ],
   "source": [
    "counter = 0\n",
    "well_list = []\n",
    "lease_num_list = []\n",
    "well_num_list = []\n",
    "oil_list = []\n",
    "casinghead_list = []\n",
    "gas_list = []\n",
    "condensate_list = []\n",
    "\n",
    "navigation = browser.find_element_by_xpath(\"/html/body/table[2]/tbody/tr/td/form/table/tbody/tr[3]/td/table[2]/tbody/tr[2]/td/table/tbody/tr[1]/td/table/tbody/tr/td[2]\")\n",
    "\n",
    "while len(navigation.find_elements_by_tag_name('a'))==14 or len(navigation.find_elements_by_tag_name('a'))==12:\n",
    "\n",
    "    production_table = browser.find_element_by_xpath(\"/html/body/table[2]/tbody/tr/td/form/table/tbody/tr[3]/td/table[2]/tbody/tr[2]/td/table\")\n",
    "    tds = production_table.find_elements_by_tag_name('td')\n",
    "    for td in tds[4:]:\n",
    "        if counter == 0:\n",
    "            well_list.append(td.text)\n",
    "            counter+=1\n",
    "        elif counter == 1:\n",
    "            lease_num_list.append(td.text)\n",
    "            counter+=1\n",
    "        elif counter == 5:\n",
    "            well_num_list.append(td.text)\n",
    "            counter+=1\n",
    "        elif counter == 6:\n",
    "            oil_list.append(td.text)\n",
    "            counter+=1\n",
    "        elif counter == 7:\n",
    "            casinghead_list.append(td.text)\n",
    "            counter+=1\n",
    "        elif counter == 8:\n",
    "            gas_list.append(td.text)\n",
    "            counter+=1\n",
    "        elif counter == 9:\n",
    "            condensate_list.append(td.text)\n",
    "            counter = 0\n",
    "        else:\n",
    "            counter+=1\n",
    "            \n",
    "    navigation.find_elements_by_tag_name('a')[2].click()\n",
    "    navigation = browser.find_element_by_xpath(\"/html/body/table[2]/tbody/tr/td/form/table/tbody/tr[3]/td/table[2]/tbody/tr[2]/td/table/tbody/tr[1]/td/table/tbody/tr/td[2]\")\n",
    "    print(\"page done\")\n",
    "print(len(well_list))"
   ]
  },
  {
   "cell_type": "code",
   "execution_count": null,
   "metadata": {},
   "outputs": [],
   "source": [
    "navigation = browser.find_element_by_xpath(\"/html/body/table[2]/tbody/tr/td/form/table/tbody/tr[3]/td/table[2]/tbody/tr[2]/td/table/tbody/tr[1]/td/table/tbody/tr/td[2]\")\n",
    "print(len(navigation.find_elements_by_tag_name('a')))\n",
    "for x in navigation.find_elements_by_tag_name('a'):\n",
    "    print(x.text)\n"
   ]
  }
 ],
 "metadata": {
  "kernelspec": {
   "display_name": "Python 3",
   "language": "python",
   "name": "python3"
  },
  "language_info": {
   "codemirror_mode": {
    "name": "ipython",
    "version": 3
   },
   "file_extension": ".py",
   "mimetype": "text/x-python",
   "name": "python",
   "nbconvert_exporter": "python",
   "pygments_lexer": "ipython3",
   "version": "3.6.7"
  }
 },
 "nbformat": 4,
 "nbformat_minor": 2
}
