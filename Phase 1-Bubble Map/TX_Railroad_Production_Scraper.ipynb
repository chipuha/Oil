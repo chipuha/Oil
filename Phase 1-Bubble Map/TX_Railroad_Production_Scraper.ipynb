{
 "cells": [
  {
   "cell_type": "code",
   "execution_count": 11,
   "metadata": {},
   "outputs": [],
   "source": [
    "# import requests\n",
    "# from bs4 import BeautifulSoup\n",
    "import time\n",
    "from selenium import webdriver\n",
    "from selenium.webdriver.support.ui import Select"
   ]
  },
  {
   "cell_type": "code",
   "execution_count": 12,
   "metadata": {
    "scrolled": true
   },
   "outputs": [
    {
     "name": "stdout",
     "output_type": "stream",
     "text": [
      "Click radio Lease View\n",
      "Lease\n",
      "Find field\n",
      "Search for Field\n",
      "fieldNumber\n",
      "get data from table\n"
     ]
    }
   ],
   "source": [
    "browser = webdriver.Firefox()\n",
    "\n",
    "browser.get('http://webapps2.rrc.texas.gov/EWA/productionQueryAction.do')\n",
    "print(\"Click radio Lease View\")\n",
    "lease_radio = browser.find_element_by_xpath(\"/html/body/table[2]/tbody/tr/td/form/table/tbody/tr[2]/td[1]/table/tbody/tr[2]/td/table/tbody/tr[2]/td[2]/label[1]/input\")\n",
    "print(lease_radio.get_attribute('value'))\n",
    "lease_radio.click()\n",
    "\n",
    "print(\"Find field\")\n",
    "search_field = browser.find_element_by_xpath(\"/html/body/table[2]/tbody/tr/td/form/table/tbody/tr[2]/td[1]/table/tbody/tr[2]/td/table/tbody/tr[9]/td[3]/input\")\n",
    "print(search_field.get_attribute('value'))\n",
    "search_field.click()\n",
    "field_num_input = browser.find_element_by_xpath(\"/html/body/table[2]/tbody/tr/td/form/table/tbody/tr/td/table[1]/tbody/tr[2]/td[2]/input\")\n",
    "print(field_num_input.get_attribute('name'))\n",
    "field_num_input.send_keys('71052900')\n",
    "field_num_click = browser.find_element_by_xpath(\"/html/body/table[2]/tbody/tr/td/form/table/tbody/tr/td/table[1]/tbody/tr[2]/td[3]/input\")\n",
    "field_num_click.click()\n",
    "field_select = browser.find_element_by_xpath(\"/html/body/table[2]/tbody/tr/td/form/table/tbody/tr/td/table[1]/tbody/tr[6]/td[1]/select/option\")\n",
    "field_select.click()\n",
    "add_field = browser.find_element_by_xpath(\"/html/body/table[2]/tbody/tr/td/form/table/tbody/tr/td/table[1]/tbody/tr[7]/td[1]/input\")\n",
    "add_field.click()\n",
    "field_submit = browser.find_element_by_xpath(\"/html/body/table[2]/tbody/tr/td/form/table/tbody/tr/td/table[2]/tbody/tr/td/input[1]\")\n",
    "field_submit.click()\n",
    "form_submit = browser.find_element_by_xpath(\"/html/body/table[2]/tbody/tr/td/form/table/tbody/tr[2]/td[1]/table/tbody/tr[5]/td/input[1]\")\n",
    "form_submit.click()\n",
    "print(\"get data from table\")\n",
    "num_entries_dd = browser.find_element_by_xpath(\"/html/body/table[2]/tbody/tr/td/form/table/tbody/tr[3]/td/table[2]/tbody/tr[2]/td/table/tbody/tr[1]/td/table/tbody/tr/td[3]/label/select/option[7]\")\n",
    "num_entries_dd.click()"
   ]
  },
  {
   "cell_type": "code",
   "execution_count": null,
   "metadata": {},
   "outputs": [
    {
     "name": "stdout",
     "output_type": "stream",
     "text": [
      "downloaded 1993\n",
      "downloaded 1994\n",
      "downloaded 1995\n",
      "downloaded 1996\n",
      "downloaded 1997\n",
      "downloaded 1998\n",
      "downloaded 1999\n",
      "downloaded 2000\n",
      "downloaded 2001\n",
      "downloaded 2002\n",
      "downloaded 2003\n",
      "downloaded 2004\n",
      "downloaded 2005\n",
      "downloaded 2006\n",
      "downloaded 2007\n",
      "downloaded 2008\n",
      "downloaded 2009\n",
      "downloaded 2010\n",
      "downloaded 2011\n",
      "downloaded 2012\n",
      "downloaded 2013\n",
      "downloaded 2014\n",
      "downloaded 2015\n",
      "downloaded 2016\n",
      "downloaded 2017\n",
      "downloaded 2018\n",
      "downloaded 2019\n"
     ]
    }
   ],
   "source": [
    "syear_path = \"/html/body/table[2]/tbody/tr/td/form/table/tbody/tr[2]/td[1]/table/tbody/tr[2]/td[2]/select[2]\"\n",
    "smonth_path = \"/html/body/table[2]/tbody/tr/td/form/table/tbody/tr[2]/td[1]/table/tbody/tr[2]/td[2]/select[1]\"\n",
    "eyear_path = \"/html/body/table[2]/tbody/tr/td/form/table/tbody/tr[2]/td[1]/table/tbody/tr[2]/td[2]/select[4]\"\n",
    "emonth_path = \"/html/body/table[2]/tbody/tr/td/form/table/tbody/tr[2]/td[1]/table/tbody/tr[2]/td[2]/select[3]\"\n",
    "submit_path = \"/html/body/table[2]/tbody/tr/td/form/table/tbody/tr[2]/td[1]/table/tbody/tr[2]/td[2]/input\"\n",
    "download_path = \"/html/body/table[2]/tbody/tr/td/form/table/tbody/tr[3]/td/table[2]/tbody/tr[3]/td/table/tbody/tr/td[1]/input\"\n",
    "\n",
    "\n",
    "syear_drop_down = browser.find_element_by_xpath(syear_path)\n",
    "smonth_drop_down = browser.find_element_by_xpath(smonth_path)\n",
    "eyear_drop_down = browser.find_element_by_xpath(eyear_path)\n",
    "emonth_drop_down = browser.find_element_by_xpath(emonth_path)\n",
    "year_range = len(syear_drop_down.find_elements_by_tag_name(\"option\"))\n",
    "month_range = len(smonth_drop_down.find_elements_by_tag_name(\"option\"))\n",
    "time_submit = browser.find_element_by_xpath(submit_path)\n",
    "download = browser.find_element_by_xpath(download_path)\n",
    "\n",
    "\n",
    "\n",
    "for year in range(year_range):\n",
    "    print(\"downloaded\",year+1993)\n",
    "    syear_drop_down = browser.find_element_by_xpath(syear_path)\n",
    "    syear_drop_down.find_elements_by_tag_name('option')[year].click()\n",
    "    eyear_drop_down = browser.find_element_by_xpath(eyear_path)\n",
    "    eyear_drop_down.find_elements_by_tag_name('option')[year].click()\n",
    "    smonth_drop_down = browser.find_element_by_xpath(smonth_path)\n",
    "    month_range = len(smonth_drop_down.find_elements_by_tag_name(\"option\"))\n",
    "    \n",
    "    for month in range(month_range):\n",
    "#         print(month+1)\n",
    "        smonth_drop_down = browser.find_element_by_xpath(smonth_path)\n",
    "        smonth_drop_down.find_elements_by_tag_name('option')[month].click()\n",
    "        emonth_drop_down = browser.find_element_by_xpath(emonth_path)\n",
    "        emonth_drop_down.find_elements_by_tag_name('option')[month].click()\n",
    "        time_submit = browser.find_element_by_xpath(submit_path)\n",
    "        time_submit.click()\n",
    "        try:\n",
    "            browser.find_element_by_xpath(download_path).click()\n",
    "        except:\n",
    "            break"
   ]
  },
  {
   "cell_type": "code",
   "execution_count": null,
   "metadata": {
    "scrolled": true
   },
   "outputs": [],
   "source": [
    "counter = 0\n",
    "well_list = []\n",
    "lease_num_list = []\n",
    "well_num_list = []\n",
    "oil_list = []\n",
    "casinghead_list = []\n",
    "gas_list = []\n",
    "condensate_list = []\n",
    "\n",
    "navigation = browser.find_element_by_xpath(\"/html/body/table[2]/tbody/tr/td/form/table/tbody/tr[3]/td/table[2]/tbody/tr[2]/td/table/tbody/tr[1]/td/table/tbody/tr/td[2]\")\n",
    "\n",
    "num_pages = int(navigation.find_elements_by_tag_name('a')[-1].text)\n",
    "\n",
    "for i in range(num_pages):\n",
    "    \n",
    "    production_table = browser.find_element_by_xpath(\"/html/body/table[2]/tbody/tr/td/form/table/tbody/tr[3]/td/table[2]/tbody/tr[2]/td/table\")\n",
    "    tds = production_table.find_elements_by_tag_name('td')\n",
    "    for td in tds[4:]:\n",
    "        if counter == 0:\n",
    "            well_list.append(td.text)\n",
    "            counter+=1\n",
    "        elif counter == 1:\n",
    "            lease_num_list.append(td.text)\n",
    "            counter+=1\n",
    "        elif counter == 5:\n",
    "            well_num_list.append(td.text)\n",
    "            counter+=1\n",
    "        elif counter == 6:\n",
    "            oil_list.append(td.text)\n",
    "            counter+=1\n",
    "        elif counter == 7:\n",
    "            casinghead_list.append(td.text)\n",
    "            counter+=1\n",
    "        elif counter == 8:\n",
    "            gas_list.append(td.text)\n",
    "            counter+=1\n",
    "        elif counter == 9:\n",
    "            condensate_list.append(td.text)\n",
    "            counter = 0\n",
    "        else:\n",
    "            counter+=1\n",
    "    \n",
    "    navigation = browser.find_element_by_xpath(\"/html/body/table[2]/tbody/tr/td/form/table/tbody/tr[3]/td/table[2]/tbody/tr[2]/td/table/tbody/tr[1]/td/table/tbody/tr/td[2]\")\n",
    "    navigation.find_elements_by_tag_name('a')[2].click()\n",
    "    \n",
    "    print(\"page\",i+1, \"done\")\n",
    "print(len(well_list))"
   ]
  },
  {
   "cell_type": "code",
   "execution_count": null,
   "metadata": {
    "scrolled": true
   },
   "outputs": [],
   "source": [
    "navigation = browser.find_element_by_xpath(\"/html/body/table[2]/tbody/tr/td/form/table/tbody/tr[3]/td/table[2]/tbody/tr[2]/td/table/tbody/tr[1]/td/table/tbody/tr/td[2]\")\n",
    "print(len(navigation.find_elements_by_tag_name('a')))\n",
    "for x in navigation.find_elements_by_tag_name('a'):\n",
    "    print(x.text)\n",
    "print(navigation.find_elements_by_tag_name('a')[-1].text)"
   ]
  },
  {
   "cell_type": "code",
   "execution_count": null,
   "metadata": {},
   "outputs": [],
   "source": [
    "well_list[2440:2448]"
   ]
  }
 ],
 "metadata": {
  "kernelspec": {
   "display_name": "Python 3",
   "language": "python",
   "name": "python3"
  },
  "language_info": {
   "codemirror_mode": {
    "name": "ipython",
    "version": 3
   },
   "file_extension": ".py",
   "mimetype": "text/x-python",
   "name": "python",
   "nbconvert_exporter": "python",
   "pygments_lexer": "ipython3",
   "version": "3.6.7"
  }
 },
 "nbformat": 4,
 "nbformat_minor": 2
}
